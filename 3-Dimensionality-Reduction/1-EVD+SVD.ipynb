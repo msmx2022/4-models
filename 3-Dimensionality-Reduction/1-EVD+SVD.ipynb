{
 "cells": [
  {
   "cell_type": "code",
   "execution_count": 2,
   "metadata": {},
   "outputs": [],
   "source": [
    "import numpy as np\n",
    "import pandas as pd\n",
    "import matplotlib.pyplot as plt\n",
    "import re\n",
    "import os"
   ]
  },
  {
   "attachments": {},
   "cell_type": "markdown",
   "metadata": {},
   "source": [
    "EVD"
   ]
  },
  {
   "cell_type": "code",
   "execution_count": 28,
   "metadata": {},
   "outputs": [],
   "source": [
    "#step1-创建数据（n=5（样本数），d=3（特征/维度/变量））\n",
    "X1 = [1,2,34]\n",
    "X2 = [4,8,60]\n",
    "X3 = [7,20,99]\n",
    "X4 = [10,11,52]\n",
    "X5 = [13,24,55]\n",
    "\n",
    "X = np.vstack((X1,X2,X3,X4,X5))"
   ]
  },
  {
   "cell_type": "code",
   "execution_count": 29,
   "metadata": {},
   "outputs": [
    {
     "name": "stdout",
     "output_type": "stream",
     "text": [
      "X[:,0].mean()= 7.0\n",
      "X[:,1].mean()= 13.0\n",
      "X[:,2].mean()= 60.0\n"
     ]
    }
   ],
   "source": [
    "#step2-零均值化处理\n",
    "print(\"X[:,0].mean()=\",X[:,0].mean())\n",
    "X[:,0] = X[:,0] - X[:,0].mean()\n",
    "\n",
    "print(\"X[:,1].mean()=\",X[:,1].mean())\n",
    "X[:,1] = X[:,1] - X[:,1].mean()\n",
    "\n",
    "print(\"X[:,2].mean()=\",X[:,2].mean())\n",
    "X[:,2] = X[:,2] - X[:,2].mean()"
   ]
  },
  {
   "cell_type": "code",
   "execution_count": 30,
   "metadata": {},
   "outputs": [
    {
     "data": {
      "text/plain": [
       "array([[ -6, -11, -26],\n",
       "       [ -3,  -5,   0],\n",
       "       [  0,   7,  39],\n",
       "       [  3,  -2,  -8],\n",
       "       [  6,  11,  -5]])"
      ]
     },
     "execution_count": 30,
     "metadata": {},
     "output_type": "execute_result"
    }
   ],
   "source": [
    "X"
   ]
  },
  {
   "cell_type": "code",
   "execution_count": 43,
   "metadata": {},
   "outputs": [
    {
     "name": "stdout",
     "output_type": "stream",
     "text": [
      "C =  [[ 22.5   35.25  25.5 ]\n",
      " [ 35.25  80.   130.  ]\n",
      " [ 25.5  130.   571.5 ]]\n"
     ]
    }
   ],
   "source": [
    "#step3-计算协方差矩阵\n",
    "\n",
    "C = X.T.dot(X)/(X.shape[0]-1)\n",
    "\n",
    "#another way: np.cov(X,rowvar=False)\n",
    "#注意np.cov()默认每行为一个特征/维度/变量（variable），每列为一个样本（observations）\n",
    "\n",
    "print(\"C = \",C)"
   ]
  },
  {
   "cell_type": "code",
   "execution_count": 48,
   "metadata": {},
   "outputs": [
    {
     "name": "stdout",
     "output_type": "stream",
     "text": [
      "[605.66561586   3.0344702   65.29991394]\n",
      "########################################\n",
      "[[-0.05704527 -0.84594283 -0.53021369]\n",
      " [-0.24328528  0.52684778 -0.81439774]\n",
      " [-0.96827584 -0.08253565  0.23585961]]\n"
     ]
    }
   ],
   "source": [
    "#step4-计算协方差矩阵的特征值与特征向量\n",
    "evalue, evector = np.linalg.eig(C)\n",
    "\n",
    "print(evalue)\n",
    "print(\"#\"*40)\n",
    "print(evector)"
   ]
  },
  {
   "cell_type": "code",
   "execution_count": 67,
   "metadata": {},
   "outputs": [
    {
     "name": "stdout",
     "output_type": "stream",
     "text": [
      "检验结果： [[ 22.5   35.25  25.5 ]\n",
      " [ 35.25  80.   130.  ]\n",
      " [ 25.5  130.   571.5 ]]\n",
      "########################################\n",
      "正确答案： [[ 22.5   35.25  25.5 ]\n",
      " [ 35.25  80.   130.  ]\n",
      " [ 25.5  130.   571.5 ]]\n"
     ]
    }
   ],
   "source": [
    "#step5-检验\n",
    "\n",
    "lambda_df = np.zeros((3,3))\n",
    "lambda_df[0,0]=evalue[0]\n",
    "lambda_df[1,1]=evalue[1]\n",
    "lambda_df[2,2]=evalue[2]\n",
    "\n",
    "q1 = evector[0]\n",
    "q2 = evector[1]\n",
    "q3 = evector[2]\n",
    "Q = np.array([q1,q2,q3])\n",
    "\n",
    "print(\"检验结果：\",Q.dot(lambda_df).dot(Q.T))\n",
    "print(\"#\"*40)\n",
    "print(\"正确答案：\",C)"
   ]
  },
  {
   "cell_type": "code",
   "execution_count": 76,
   "metadata": {},
   "outputs": [
    {
     "name": "stdout",
     "output_type": "stream",
     "text": [
      "var1 =  271.63935086642533\n",
      "var2 =  233.67425582091124\n",
      "var3 =  33.88639331266353\n",
      "选择信息量最大（方差最大）的var1与var2\n"
     ]
    }
   ],
   "source": [
    "#step6-计算零均值化后的数据在每个特征向量上投影后的值的方差，并作出选择判断\n",
    "var1 = np.var(X.dot(evector[0]))\n",
    "print(\"var1 = \",var1)\n",
    "var2 = np.var(X.dot(evector[1]))\n",
    "print(\"var2 = \",var2)\n",
    "var3 = np.var(X.dot(evector[2]))\n",
    "print(\"var3 = \",var3)\n",
    "print(\"选择信息量最大（方差最大）的var1与var2\")"
   ]
  },
  {
   "cell_type": "code",
   "execution_count": 79,
   "metadata": {},
   "outputs": [
    {
     "data": {
      "text/plain": [
       "array([[ 23.43319877,  16.83872737],\n",
       "       [  4.40084998,  -1.90438309],\n",
       "       [-26.5999338 , -28.07357751],\n",
       "       [  5.76245939,   4.73163055],\n",
       "       [ -6.99657434,   8.40760268]])"
      ]
     },
     "execution_count": 79,
     "metadata": {},
     "output_type": "execute_result"
    }
   ],
   "source": [
    "#step7-将3维数据压缩到2维（5x3 * 3x2  →  5x2）\n",
    "X.dot(Q.T[:,:2])"
   ]
  },
  {
   "attachments": {},
   "cell_type": "markdown",
   "metadata": {},
   "source": [
    "SVD"
   ]
  },
  {
   "cell_type": "code",
   "execution_count": 16,
   "metadata": {},
   "outputs": [
    {
     "name": "stdout",
     "output_type": "stream",
     "text": [
      "A.shape :  (7, 5)\n"
     ]
    }
   ],
   "source": [
    "A = [[0,0,0,2,2],\n",
    "     [0,0,0,3,3],\n",
    "     [0,0,0,1,1],\n",
    "     [1,1,1,0,0],\n",
    "     [2,2,2,0,0],\n",
    "     [5,5,5,0,0],\n",
    "     [1,1,1,0,0]]\n",
    "\n",
    "A = np.array(A)\n",
    "print(\"A.shape : \",A.shape)"
   ]
  },
  {
   "cell_type": "code",
   "execution_count": 11,
   "metadata": {},
   "outputs": [],
   "source": [
    "U,sigma,Vt = np.linalg.svd(A)"
   ]
  },
  {
   "cell_type": "code",
   "execution_count": 26,
   "metadata": {},
   "outputs": [
    {
     "data": {
      "text/plain": [
       "array([9.64365076e+00, 5.29150262e+00, 7.40623935e-16, 4.05103551e-16,\n",
       "       2.21838243e-32])"
      ]
     },
     "execution_count": 26,
     "metadata": {},
     "output_type": "execute_result"
    }
   ],
   "source": [
    "sigma"
   ]
  },
  {
   "cell_type": "code",
   "execution_count": 27,
   "metadata": {},
   "outputs": [
    {
     "data": {
      "text/plain": [
       "array([[-2.22044605e-16,  5.34522484e-01,  8.41650989e-01,\n",
       "         5.59998398e-02, -5.26625636e-02,  2.77555756e-17,\n",
       "         1.38777878e-17],\n",
       "       [ 0.00000000e+00,  8.01783726e-01, -4.76944344e-01,\n",
       "        -2.09235996e-01,  2.93065263e-01, -4.01696905e-17,\n",
       "        -2.77555756e-17],\n",
       "       [ 0.00000000e+00,  2.67261242e-01, -2.52468946e-01,\n",
       "         5.15708308e-01, -7.73870662e-01,  1.54769615e-16,\n",
       "         8.59497045e-18],\n",
       "       [-1.79605302e-01,  0.00000000e+00,  7.39748546e-03,\n",
       "        -3.03901436e-01, -2.04933639e-01,  8.94308074e-01,\n",
       "        -1.83156768e-01],\n",
       "       [-3.59210604e-01,  0.00000000e+00,  1.47949709e-02,\n",
       "        -6.07802873e-01, -4.09867278e-01, -4.47451355e-01,\n",
       "        -3.64856984e-01],\n",
       "       [-8.98026510e-01,  0.00000000e+00, -8.87698255e-03,\n",
       "         3.64681724e-01,  2.45920367e-01, -1.07974157e-16,\n",
       "        -1.66854263e-17],\n",
       "       [-1.79605302e-01,  0.00000000e+00,  7.39748546e-03,\n",
       "        -3.03901436e-01, -2.04933639e-01,  5.94635264e-04,\n",
       "         9.12870736e-01]])"
      ]
     },
     "execution_count": 27,
     "metadata": {},
     "output_type": "execute_result"
    }
   ],
   "source": [
    "U"
   ]
  },
  {
   "cell_type": "code",
   "execution_count": 28,
   "metadata": {},
   "outputs": [
    {
     "data": {
      "text/plain": [
       "array([[-5.77350269e-01, -5.77350269e-01, -5.77350269e-01,\n",
       "         0.00000000e+00,  0.00000000e+00],\n",
       "       [-2.46566547e-16,  1.23283273e-16,  1.23283273e-16,\n",
       "         7.07106781e-01,  7.07106781e-01],\n",
       "       [-7.83779232e-01,  5.90050124e-01,  1.93729108e-01,\n",
       "        -2.77555756e-16, -2.22044605e-16],\n",
       "       [-2.28816045e-01, -5.64364703e-01,  7.93180748e-01,\n",
       "         2.22044605e-16, -1.11022302e-16],\n",
       "       [ 0.00000000e+00,  0.00000000e+00,  0.00000000e+00,\n",
       "        -7.07106781e-01,  7.07106781e-01]])"
      ]
     },
     "execution_count": 28,
     "metadata": {},
     "output_type": "execute_result"
    }
   ],
   "source": [
    "Vt"
   ]
  },
  {
   "cell_type": "code",
   "execution_count": 29,
   "metadata": {},
   "outputs": [
    {
     "data": {
      "text/plain": [
       "array([-0.57735027, -0.57735027, -0.57735027,  0.        ,  0.        ])"
      ]
     },
     "execution_count": 29,
     "metadata": {},
     "output_type": "execute_result"
    }
   ],
   "source": [
    "Vt[0,:]"
   ]
  },
  {
   "cell_type": "code",
   "execution_count": 20,
   "metadata": {},
   "outputs": [
    {
     "name": "stdout",
     "output_type": "stream",
     "text": [
      "压缩前的行数： 7\n",
      "压缩前的列数： 5\n",
      "########################################\n",
      "压缩后的行数： 2\n",
      "压缩后的列数： 5\n"
     ]
    }
   ],
   "source": [
    "#SVD行压缩--U.T*A\n",
    "U_T_2_7 = U.T[:2,:]\n",
    "\n",
    "\n",
    "svd_col = U_T_2_7.dot(A)\n",
    "print(\"压缩前的行数：\",A.shape[0])\n",
    "print(\"压缩前的列数：\",A.shape[1])\n",
    "print(\"#\"*40)\n",
    "print(\"压缩后的行数：\",svd_col.shape[0])\n",
    "print(\"压缩后的列数：\",svd_col.shape[1])\n"
   ]
  },
  {
   "cell_type": "code",
   "execution_count": 25,
   "metadata": {},
   "outputs": [
    {
     "name": "stdout",
     "output_type": "stream",
     "text": [
      "压缩前的行数： 7\n",
      "压缩前的列数： 5\n",
      "########################################\n",
      "压缩后的行数： 7\n",
      "压缩后的列数： 2\n"
     ]
    }
   ],
   "source": [
    "#SVD列压缩--V.T*A.T\n",
    "V_T_2_5 = Vt[:2,:]\n",
    "\n",
    "\n",
    "svd_row = V_T_2_5.dot(A.T).T  #因为压缩的是A.T，结果还需要再转置\n",
    "print(\"压缩前的行数：\",A.shape[0])\n",
    "print(\"压缩前的列数：\",A.shape[1])\n",
    "print(\"#\"*40)\n",
    "print(\"压缩后的行数：\",svd_row.shape[0])\n",
    "print(\"压缩后的列数：\",svd_row.shape[1])"
   ]
  },
  {
   "cell_type": "code",
   "execution_count": 48,
   "metadata": {},
   "outputs": [],
   "source": [
    "#SVD近似-- sigma1*u1*vt1 + sigma2*u2*vt2\n",
    "\n",
    "svd_apx1 = np.dot(sigma[0]*U[:,0].reshape(-1,1),(Vt[0,:]).reshape(-1,1).T)\n",
    "svd_apx2 = np.dot(sigma[1]*U[:,1].reshape(-1,1),(Vt[1,:]).reshape(-1,1).T)\n",
    "\n",
    "svd_apx = svd_apx1 + svd_apx2"
   ]
  },
  {
   "cell_type": "code",
   "execution_count": 51,
   "metadata": {},
   "outputs": [
    {
     "data": {
      "text/plain": [
       "array([[ 5.38896529e-16,  1.58498979e-15,  1.58498979e-15,\n",
       "         2.00000000e+00,  2.00000000e+00],\n",
       "       [-1.04609326e-15,  5.23046632e-16,  5.23046632e-16,\n",
       "         3.00000000e+00,  3.00000000e+00],\n",
       "       [-3.48697754e-16,  1.74348877e-16,  1.74348877e-16,\n",
       "         1.00000000e+00,  1.00000000e+00],\n",
       "       [ 1.00000000e+00,  1.00000000e+00,  1.00000000e+00,\n",
       "         0.00000000e+00,  0.00000000e+00],\n",
       "       [ 2.00000000e+00,  2.00000000e+00,  2.00000000e+00,\n",
       "         0.00000000e+00,  0.00000000e+00],\n",
       "       [ 5.00000000e+00,  5.00000000e+00,  5.00000000e+00,\n",
       "         0.00000000e+00,  0.00000000e+00],\n",
       "       [ 1.00000000e+00,  1.00000000e+00,  1.00000000e+00,\n",
       "         0.00000000e+00,  0.00000000e+00]])"
      ]
     },
     "execution_count": 51,
     "metadata": {},
     "output_type": "execute_result"
    }
   ],
   "source": [
    "svd_apx"
   ]
  },
  {
   "cell_type": "code",
   "execution_count": null,
   "metadata": {},
   "outputs": [],
   "source": []
  }
 ],
 "metadata": {
  "kernelspec": {
   "display_name": "base",
   "language": "python",
   "name": "python3"
  },
  "language_info": {
   "codemirror_mode": {
    "name": "ipython",
    "version": 3
   },
   "file_extension": ".py",
   "mimetype": "text/x-python",
   "name": "python",
   "nbconvert_exporter": "python",
   "pygments_lexer": "ipython3",
   "version": "3.10.4"
  },
  "orig_nbformat": 4
 },
 "nbformat": 4,
 "nbformat_minor": 2
}
