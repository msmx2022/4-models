{
 "cells": [
  {
   "cell_type": "code",
   "execution_count": 27,
   "metadata": {},
   "outputs": [],
   "source": [
    "import numpy as np\n",
    "import pandas as pd\n",
    "import matplotlib.pyplot as plt\n",
    "import re\n",
    "import os"
   ]
  },
  {
   "cell_type": "code",
   "execution_count": 28,
   "metadata": {},
   "outputs": [],
   "source": [
    "#step1-创建数据（n=5（样本数），d=3（特征/维度/变量））\n",
    "X1 = [1,2,34]\n",
    "X2 = [4,8,60]\n",
    "X3 = [7,20,99]\n",
    "X4 = [10,11,52]\n",
    "X5 = [13,24,55]\n",
    "\n",
    "X = np.vstack((X1,X2,X3,X4,X5))"
   ]
  },
  {
   "cell_type": "code",
   "execution_count": 29,
   "metadata": {},
   "outputs": [
    {
     "name": "stdout",
     "output_type": "stream",
     "text": [
      "X[:,0].mean()= 7.0\n",
      "X[:,1].mean()= 13.0\n",
      "X[:,2].mean()= 60.0\n"
     ]
    }
   ],
   "source": [
    "#step2-零均值化处理\n",
    "print(\"X[:,0].mean()=\",X[:,0].mean())\n",
    "X[:,0] = X[:,0] - X[:,0].mean()\n",
    "\n",
    "print(\"X[:,1].mean()=\",X[:,1].mean())\n",
    "X[:,1] = X[:,1] - X[:,1].mean()\n",
    "\n",
    "print(\"X[:,2].mean()=\",X[:,2].mean())\n",
    "X[:,2] = X[:,2] - X[:,2].mean()"
   ]
  },
  {
   "cell_type": "code",
   "execution_count": 30,
   "metadata": {},
   "outputs": [
    {
     "data": {
      "text/plain": [
       "array([[ -6, -11, -26],\n",
       "       [ -3,  -5,   0],\n",
       "       [  0,   7,  39],\n",
       "       [  3,  -2,  -8],\n",
       "       [  6,  11,  -5]])"
      ]
     },
     "execution_count": 30,
     "metadata": {},
     "output_type": "execute_result"
    }
   ],
   "source": [
    "X"
   ]
  },
  {
   "cell_type": "code",
   "execution_count": 43,
   "metadata": {},
   "outputs": [
    {
     "name": "stdout",
     "output_type": "stream",
     "text": [
      "C =  [[ 22.5   35.25  25.5 ]\n",
      " [ 35.25  80.   130.  ]\n",
      " [ 25.5  130.   571.5 ]]\n"
     ]
    }
   ],
   "source": [
    "#step3-计算协方差矩阵\n",
    "\n",
    "C = X.T.dot(X)/(X.shape[0]-1)\n",
    "\n",
    "#another way: np.cov(X,rowvar=False)\n",
    "#注意np.cov()默认每行为一个特征/维度/变量（variable），每列为一个样本（observations）\n",
    "\n",
    "print(\"C = \",C)"
   ]
  },
  {
   "cell_type": "code",
   "execution_count": 48,
   "metadata": {},
   "outputs": [
    {
     "name": "stdout",
     "output_type": "stream",
     "text": [
      "[605.66561586   3.0344702   65.29991394]\n",
      "########################################\n",
      "[[-0.05704527 -0.84594283 -0.53021369]\n",
      " [-0.24328528  0.52684778 -0.81439774]\n",
      " [-0.96827584 -0.08253565  0.23585961]]\n"
     ]
    }
   ],
   "source": [
    "#step4-计算协方差矩阵的特征值与特征向量\n",
    "evalue, evector = np.linalg.eig(C)\n",
    "\n",
    "print(evalue)\n",
    "print(\"#\"*40)\n",
    "print(evector)"
   ]
  },
  {
   "cell_type": "code",
   "execution_count": 67,
   "metadata": {},
   "outputs": [
    {
     "name": "stdout",
     "output_type": "stream",
     "text": [
      "检验结果： [[ 22.5   35.25  25.5 ]\n",
      " [ 35.25  80.   130.  ]\n",
      " [ 25.5  130.   571.5 ]]\n",
      "########################################\n",
      "正确答案： [[ 22.5   35.25  25.5 ]\n",
      " [ 35.25  80.   130.  ]\n",
      " [ 25.5  130.   571.5 ]]\n"
     ]
    }
   ],
   "source": [
    "#step5-检验\n",
    "\n",
    "lambda_df = np.zeros((3,3))\n",
    "lambda_df[0,0]=evalue[0]\n",
    "lambda_df[1,1]=evalue[1]\n",
    "lambda_df[2,2]=evalue[2]\n",
    "\n",
    "q1 = evector[0]\n",
    "q2 = evector[1]\n",
    "q3 = evector[2]\n",
    "Q = np.array([q1,q2,q3])\n",
    "\n",
    "print(\"检验结果：\",Q.dot(lambda_df).dot(Q.T))\n",
    "print(\"#\"*40)\n",
    "print(\"正确答案：\",C)"
   ]
  },
  {
   "cell_type": "code",
   "execution_count": 76,
   "metadata": {},
   "outputs": [
    {
     "name": "stdout",
     "output_type": "stream",
     "text": [
      "var1 =  271.63935086642533\n",
      "var2 =  233.67425582091124\n",
      "var3 =  33.88639331266353\n",
      "选择信息量最大（方差最大）的var1与var2\n"
     ]
    }
   ],
   "source": [
    "#step6-计算零均值化后的数据在每个特征向量上投影后的值的方差，并作出选择判断\n",
    "var1 = np.var(X.dot(evector[0]))\n",
    "print(\"var1 = \",var1)\n",
    "var2 = np.var(X.dot(evector[1]))\n",
    "print(\"var2 = \",var2)\n",
    "var3 = np.var(X.dot(evector[2]))\n",
    "print(\"var3 = \",var3)\n",
    "print(\"选择信息量最大（方差最大）的var1与var2\")"
   ]
  },
  {
   "cell_type": "code",
   "execution_count": 79,
   "metadata": {},
   "outputs": [
    {
     "data": {
      "text/plain": [
       "array([[ 23.43319877,  16.83872737],\n",
       "       [  4.40084998,  -1.90438309],\n",
       "       [-26.5999338 , -28.07357751],\n",
       "       [  5.76245939,   4.73163055],\n",
       "       [ -6.99657434,   8.40760268]])"
      ]
     },
     "execution_count": 79,
     "metadata": {},
     "output_type": "execute_result"
    }
   ],
   "source": [
    "#step7-将3维数据压缩到2维（5x3 * 3x2  →  5x2）\n",
    "X.dot(Q.T[:,:2])"
   ]
  },
  {
   "cell_type": "code",
   "execution_count": null,
   "metadata": {},
   "outputs": [],
   "source": []
  }
 ],
 "metadata": {
  "kernelspec": {
   "display_name": "base",
   "language": "python",
   "name": "python3"
  },
  "language_info": {
   "codemirror_mode": {
    "name": "ipython",
    "version": 3
   },
   "file_extension": ".py",
   "mimetype": "text/x-python",
   "name": "python",
   "nbconvert_exporter": "python",
   "pygments_lexer": "ipython3",
   "version": "3.10.4"
  },
  "orig_nbformat": 4
 },
 "nbformat": 4,
 "nbformat_minor": 2
}
