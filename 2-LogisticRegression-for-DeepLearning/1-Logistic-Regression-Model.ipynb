{
 "cells": [
  {
   "cell_type": "code",
   "execution_count": 23,
   "metadata": {},
   "outputs": [],
   "source": [
    "import numpy as np\n",
    "import pandas as pd\n",
    "import matplotlib.pyplot as plt\n",
    "import re\n",
    "import os"
   ]
  },
  {
   "cell_type": "code",
   "execution_count": 24,
   "metadata": {},
   "outputs": [],
   "source": [
    "DataPath = \"https://raw.githubusercontent.com/lazyprogrammer/machine_learning_examples/master/ann_logistic_extra/ecommerce_data.csv\""
   ]
  },
  {
   "cell_type": "code",
   "execution_count": 25,
   "metadata": {},
   "outputs": [],
   "source": [
    "#step1-read data\n",
    "#df = pd.read_csv(DataPath)\n",
    "#df.head(5)\n",
    "\n",
    "#step2-convert to numpy\n",
    "#data = df.to_numpy()\n",
    "#data\n",
    "\n",
    "#step3-extract features and label data\n",
    "#X = data[:,:-1]\n",
    "#Y = data[:,-1]\n",
    "\n",
    "#step4-one hot encoding\n",
    "#N,D = X.shape\n",
    "#X2 = np.zeros((N,D+3))\n",
    "#X2[:,:(D-1)] = X[:,:(D-1)]\n",
    "#for i in range(N):\n",
    "#    t = int(X[i,(D-1)])\n",
    "#    X2[i,t+(D-1)] = 1\n",
    "\n",
    "#step5-normalize numerical columns\n",
    "#for col in (1,2):\n",
    "#    X2[:,col] = (X2[:,col] - X2[:,col].mean())/X2[:,col].std()\n",
    "\n",
    "#step6-split train and test\n",
    "#Xtrain = X2[:-100]\n",
    "#Ytrain = Y[:-100]\n",
    "#Xtest = X2[-100:]\n",
    "#Ytest = Y[-100:]"
   ]
  },
  {
   "cell_type": "code",
   "execution_count": 26,
   "metadata": {},
   "outputs": [],
   "source": [
    "#将step1-step6打包进一个函数中\n",
    "def get_data(path):\n",
    "     #step1-read data\n",
    "     df = pd.read_csv(path)\n",
    "\n",
    "     #step2-convert to numpy\n",
    "     data = df.to_numpy()\n",
    "\n",
    "     #step3-extract features and label data\n",
    "     X = data[:,:-1]\n",
    "     Y = data[:,-1]\n",
    "\n",
    "     #step4-one hot encoding\n",
    "     N,D = X.shape\n",
    "     X2 = np.zeros((N,D+3))\n",
    "     X2[:,:(D-1)] = X[:,:(D-1)]\n",
    "     for i in range(N):\n",
    "          t = int(X[i,(D-1)])\n",
    "          X2[i,t+(D-1)] = 1\n",
    "  \n",
    "     #step5-split train and test\n",
    "     Xtrain = X2[:-100]\n",
    "     Ytrain = Y[:-100]\n",
    "     Xtest = X2[-100:]\n",
    "     Ytest = Y[-100:]\n",
    "    \n",
    "     #step6-normalize numerical columns\n",
    "     for col in (1,2):\n",
    "          m = Xtrain[:,col].mean()\n",
    "          s = Xtrain[:,col].std()\n",
    "          Xtrain[:,col] = (Xtrain[:,col] - m)/s\n",
    "          Xtest[:,col] = (Xtest[:,col] - m)/s\n",
    "\n",
    "     return Xtrain,Ytrain,Xtest,Ytest"
   ]
  },
  {
   "cell_type": "code",
   "execution_count": 27,
   "metadata": {},
   "outputs": [],
   "source": [
    "#step7 -only return the data from the first 2 classes\n",
    "\n",
    "#X2train = Xtrain[Ytrain <= 1]\n",
    "#Y2train = Ytrain[Ytrain <= 1]\n",
    "#X2test = Xtest[Ytest <= 1]\n",
    "#Y2test = Ytest[Ytest <= 1]\n"
   ]
  },
  {
   "cell_type": "code",
   "execution_count": 28,
   "metadata": {},
   "outputs": [],
   "source": [
    "#将step1-step7打包进一个函数中\n",
    "def get_binary_data(path):\n",
    "    \n",
    "    Xtrain,Ytrain,Xtest,Ytest = get_data(path)\n",
    "\n",
    "    X2train = Xtrain[Ytrain <= 1]\n",
    "    Y2train = Ytrain[Ytrain <= 1]\n",
    "    X2test = Xtest[Ytest <= 1]\n",
    "    Y2test = Ytest[Ytest <= 1]\n",
    "\n",
    "    return X2train,Y2train,X2test,Y2test"
   ]
  },
  {
   "cell_type": "code",
   "execution_count": 29,
   "metadata": {},
   "outputs": [],
   "source": [
    "X,Y,_,_ = get_binary_data(DataPath)"
   ]
  },
  {
   "cell_type": "code",
   "execution_count": 30,
   "metadata": {},
   "outputs": [],
   "source": [
    "# randomly initialize weights\n",
    "\n",
    "D = X.shape[1]\n",
    "W = np.random.randn(D)\n",
    "b = 0"
   ]
  },
  {
   "cell_type": "code",
   "execution_count": 31,
   "metadata": {},
   "outputs": [
    {
     "data": {
      "text/plain": [
       "(321,)"
      ]
     },
     "execution_count": 31,
     "metadata": {},
     "output_type": "execute_result"
    }
   ],
   "source": [
    "# make predictions\n",
    "def sigmoid(a):\n",
    "    return 1/(1+np.exp(-a))\n",
    "\n",
    "def forward(X,W,b):\n",
    "    return sigmoid(X.dot(W)+b)\n",
    "\n",
    "P_Y_given_X = forward(X,W,b)\n",
    "\n",
    "predictions = np.round(P_Y_given_X)\n",
    "\n",
    "P_Y_given_X.shape"
   ]
  },
  {
   "cell_type": "code",
   "execution_count": 32,
   "metadata": {},
   "outputs": [
    {
     "data": {
      "text/plain": [
       "0.26479750778816197"
      ]
     },
     "execution_count": 32,
     "metadata": {},
     "output_type": "execute_result"
    }
   ],
   "source": [
    "# valuate model output\n",
    "def classification_rate(Y,P):\n",
    "    return np.mean(Y==P)\n",
    "\n",
    "classification_rate(Y,predictions)"
   ]
  },
  {
   "cell_type": "code",
   "execution_count": 33,
   "metadata": {},
   "outputs": [],
   "source": [
    "# cross entropy function\n",
    "def cross_entropy(T,Y):\n",
    "    E = 0\n",
    "    for i in range(N):\n",
    "        if T[i] == 1:\n",
    "            E -= np.log(Y[i])\n",
    "        else:\n",
    "            E -= np.log(1-Y[i])\n",
    "    return E\n"
   ]
  },
  {
   "cell_type": "code",
   "execution_count": null,
   "metadata": {},
   "outputs": [],
   "source": []
  }
 ],
 "metadata": {
  "kernelspec": {
   "display_name": "base",
   "language": "python",
   "name": "python3"
  },
  "language_info": {
   "codemirror_mode": {
    "name": "ipython",
    "version": 3
   },
   "file_extension": ".py",
   "mimetype": "text/x-python",
   "name": "python",
   "nbconvert_exporter": "python",
   "pygments_lexer": "ipython3",
   "version": "3.7.7"
  },
  "orig_nbformat": 4
 },
 "nbformat": 4,
 "nbformat_minor": 2
}
