{
 "cells": [
  {
   "cell_type": "code",
   "execution_count": 84,
   "metadata": {},
   "outputs": [],
   "source": [
    "import numpy as np\n",
    "import pandas as pd\n",
    "import matplotlib.pyplot as plt\n",
    "import re\n",
    "import os"
   ]
  },
  {
   "cell_type": "code",
   "execution_count": 85,
   "metadata": {},
   "outputs": [],
   "source": [
    "DataPath = \"https://raw.githubusercontent.com/lazyprogrammer/machine_learning_examples/master/ann_logistic_extra/ecommerce_data.csv\""
   ]
  },
  {
   "cell_type": "code",
   "execution_count": 86,
   "metadata": {},
   "outputs": [],
   "source": [
    "#step1-read data\n",
    "#df = pd.read_csv(DataPath)\n",
    "#df.head(5)\n",
    "\n",
    "#step2-convert to numpy\n",
    "#data = df.to_numpy()\n",
    "#data\n",
    "\n",
    "#step3-extract features and label data\n",
    "#X = data[:,:-1]\n",
    "#Y = data[:,-1]\n",
    "\n",
    "#step4-one hot encoding\n",
    "#N,D = X.shape\n",
    "#X2 = np.zeros((N,D+3))\n",
    "#X2[:,:(D-1)] = X[:,:(D-1)]\n",
    "#for i in range(N):\n",
    "#    t = int(X[i,(D-1)])\n",
    "#    X2[i,t+(D-1)] = 1\n",
    "\n",
    "#step5-normalize numerical columns\n",
    "#for col in (1,2):\n",
    "#    X2[:,col] = (X2[:,col] - X2[:,col].mean())/X2[:,col].std()\n",
    "\n",
    "#step6-split train and test\n",
    "#Xtrain = X2[:-100]\n",
    "#Ytrain = Y[:-100]\n",
    "#Xtest = X2[-100:]\n",
    "#Ytest = Y[-100:]"
   ]
  },
  {
   "cell_type": "code",
   "execution_count": 92,
   "metadata": {},
   "outputs": [],
   "source": [
    "#将step1-step6打包进一个函数中\n",
    "def get_data(path):\n",
    "     #step1-read data\n",
    "     df = pd.read_csv(path)\n",
    "\n",
    "     #step2-convert to numpy\n",
    "     data = df.to_numpy()\n",
    "\n",
    "     #step3-extract features and label data\n",
    "     X = data[:,:-1]\n",
    "     Y = data[:,-1]\n",
    "\n",
    "     #step4-one hot encoding\n",
    "     N,D = X.shape\n",
    "     X2 = np.zeros((N,D+3))\n",
    "     X2[:,:(D-1)] = X[:,:(D-1)]\n",
    "     for i in range(N):\n",
    "          t = int(X[i,(D-1)])\n",
    "          X2[i,t+(D-1)] = 1\n",
    "    \n",
    "     #step5-normalize numerical columns\n",
    "     for col in (1,2):\n",
    "          X2[:,col] = (X2[:,col] - X2[:,col].mean())/X2[:,col].std()\n",
    "     \n",
    "     #step6-split train and test\n",
    "     Xtrain = X2[:-100]\n",
    "     Ytrain = Y[:-100]\n",
    "     Xtest = X2[-100:]\n",
    "     Ytest = Y[-100:]\n",
    "\n",
    "     return Xtrain,Ytrain,Xtest,Ytest"
   ]
  },
  {
   "cell_type": "code",
   "execution_count": 93,
   "metadata": {},
   "outputs": [],
   "source": [
    "#step7 -only return the data from the first 2 classes\n",
    "\n",
    "#X2train = Xtrain[Ytrain <= 1]\n",
    "#Y2train = Ytrain[Ytrain <= 1]\n",
    "#X2test = Xtest[Ytest <= 1]\n",
    "#Y2test = Ytest[Ytest <= 1]\n"
   ]
  },
  {
   "cell_type": "code",
   "execution_count": 94,
   "metadata": {},
   "outputs": [],
   "source": [
    "#将step1-step7打包进一个函数中\n",
    "def get_binary_data(path):\n",
    "    \n",
    "    Xtrain,Ytrain,Xtest,Ytest = get_data(path)\n",
    "\n",
    "    X2train = Xtrain[Ytrain <= 1]\n",
    "    Y2train = Ytrain[Ytrain <= 1]\n",
    "    X2test = Xtest[Ytest <= 1]\n",
    "    Y2test = Ytest[Ytest <= 1]\n",
    "\n",
    "    return X2train,Y2train,X2test,Y2test"
   ]
  },
  {
   "cell_type": "code",
   "execution_count": 95,
   "metadata": {},
   "outputs": [],
   "source": [
    "X2train,Y2train,X2test,Y2test = get_binary_data(DataPath)"
   ]
  }
 ],
 "metadata": {
  "kernelspec": {
   "display_name": "base",
   "language": "python",
   "name": "python3"
  },
  "language_info": {
   "codemirror_mode": {
    "name": "ipython",
    "version": 3
   },
   "file_extension": ".py",
   "mimetype": "text/x-python",
   "name": "python",
   "nbconvert_exporter": "python",
   "pygments_lexer": "ipython3",
   "version": "3.10.4"
  },
  "orig_nbformat": 4
 },
 "nbformat": 4,
 "nbformat_minor": 2
}
