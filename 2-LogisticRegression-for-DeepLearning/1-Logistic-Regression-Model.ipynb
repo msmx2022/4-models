{
 "cells": [
  {
   "cell_type": "code",
   "execution_count": 86,
   "metadata": {},
   "outputs": [],
   "source": [
    "import numpy as np\n",
    "import pandas as pd\n",
    "import matplotlib.pyplot as plt\n",
    "import re\n",
    "import os"
   ]
  },
  {
   "cell_type": "code",
   "execution_count": 87,
   "metadata": {},
   "outputs": [],
   "source": [
    "DataPath = \"https://raw.githubusercontent.com/lazyprogrammer/machine_learning_examples/master/ann_logistic_extra/ecommerce_data.csv\""
   ]
  },
  {
   "cell_type": "code",
   "execution_count": 88,
   "metadata": {},
   "outputs": [],
   "source": [
    "#step1-read data\n",
    "#df = pd.read_csv(DataPath)\n",
    "#df.head(5)\n",
    "\n",
    "#step2-convert to numpy\n",
    "#data = df.to_numpy()\n",
    "#data\n",
    "\n",
    "#step3-extract features and label data\n",
    "#X = data[:,:-1]\n",
    "#Y = data[:,-1]\n",
    "\n",
    "#step4-one hot encoding\n",
    "#N,D = X.shape\n",
    "#X2 = np.zeros((N,D+3))\n",
    "#X2[:,:(D-1)] = X[:,:(D-1)]\n",
    "#for i in range(N):\n",
    "#    t = int(X[i,(D-1)])\n",
    "#    X2[i,t+(D-1)] = 1\n",
    "\n",
    "#step5-normalize numerical columns\n",
    "#for col in (1,2):\n",
    "#    X2[:,col] = (X2[:,col] - X2[:,col].mean())/X2[:,col].std()\n",
    "\n",
    "#step6-split train and test\n",
    "#Xtrain = X2[:-100]\n",
    "#Ytrain = Y[:-100]\n",
    "#Xtest = X2[-100:]\n",
    "#Ytest = Y[-100:]"
   ]
  },
  {
   "cell_type": "code",
   "execution_count": 89,
   "metadata": {},
   "outputs": [],
   "source": [
    "#将step1-step6打包进一个函数中\n",
    "def get_data(path):\n",
    "     #step1-read data\n",
    "     df = pd.read_csv(path)\n",
    "\n",
    "     #step2-convert to numpy\n",
    "     data = df.to_numpy()\n",
    "\n",
    "     #step3-extract features and label data\n",
    "     X = data[:,:-1]\n",
    "     Y = data[:,-1]\n",
    "\n",
    "     #step4-one hot encoding\n",
    "     N,D = X.shape\n",
    "     X2 = np.zeros((N,D+3))\n",
    "     X2[:,:(D-1)] = X[:,:(D-1)]\n",
    "     for i in range(N):\n",
    "          t = int(X[i,(D-1)])\n",
    "          X2[i,t+(D-1)] = 1\n",
    "  \n",
    "     #step5-split train and test\n",
    "     Xtrain = X2[:-100]\n",
    "     Ytrain = Y[:-100]\n",
    "     Xtest = X2[-100:]\n",
    "     Ytest = Y[-100:]\n",
    "    \n",
    "     #step6-normalize numerical columns\n",
    "     for col in (1,2):\n",
    "          m = Xtrain[:,col].mean()\n",
    "          s = Xtrain[:,col].std()\n",
    "          Xtrain[:,col] = (Xtrain[:,col] - m)/s\n",
    "          Xtest[:,col] = (Xtest[:,col] - m)/s\n",
    "\n",
    "     return Xtrain,Ytrain,Xtest,Ytest"
   ]
  },
  {
   "cell_type": "code",
   "execution_count": 90,
   "metadata": {},
   "outputs": [],
   "source": [
    "#step7 -only return the data from the first 2 classes\n",
    "\n",
    "#X2train = Xtrain[Ytrain <= 1]\n",
    "#Y2train = Ytrain[Ytrain <= 1]\n",
    "#X2test = Xtest[Ytest <= 1]\n",
    "#Y2test = Ytest[Ytest <= 1]\n"
   ]
  },
  {
   "cell_type": "code",
   "execution_count": 91,
   "metadata": {},
   "outputs": [],
   "source": [
    "#将step1-step7打包进一个函数中\n",
    "def get_binary_data(path):\n",
    "    \n",
    "    Xtrain,Ytrain,Xtest,Ytest = get_data(path)\n",
    "\n",
    "    X2train = Xtrain[Ytrain <= 1]\n",
    "    Y2train = Ytrain[Ytrain <= 1]\n",
    "    X2test = Xtest[Ytest <= 1]\n",
    "    Y2test = Ytest[Ytest <= 1]\n",
    "\n",
    "    return X2train,Y2train,X2test,Y2test"
   ]
  },
  {
   "cell_type": "code",
   "execution_count": 92,
   "metadata": {},
   "outputs": [],
   "source": [
    "#get data\n",
    "Xtrain,Ytrain,Xtest,Ytest = get_binary_data(DataPath)"
   ]
  },
  {
   "cell_type": "code",
   "execution_count": 93,
   "metadata": {},
   "outputs": [],
   "source": [
    "# randomly initialize weights\n",
    "\n",
    "D = Xtrain.shape[1]\n",
    "W = np.random.randn(D)\n",
    "b = 0 # bias term"
   ]
  },
  {
   "cell_type": "code",
   "execution_count": 94,
   "metadata": {},
   "outputs": [],
   "source": [
    "# define functions for making predictions\n",
    "\n",
    "def sigmoid(a):\n",
    "    return 1/(1+np.exp(-a))\n",
    "\n",
    "def forward(X,W,b):\n",
    "    return sigmoid(X.dot(W)+b)\n",
    "\n",
    "\n",
    "# valuate model output\n",
    "def classification_rate(Y,P):\n",
    "    return np.mean(Y==P)\n",
    "\n",
    "# cross entropy function (pY1 =  probability of y=1) \n",
    "def cross_entropy(Y,pY1):\n",
    "    return -np.mean(Y*np.log(pY1) + (1-Y)*np.log(1-pY1))\n"
   ]
  },
  {
   "cell_type": "code",
   "execution_count": 95,
   "metadata": {},
   "outputs": [],
   "source": [
    "train_cost = []\n",
    "test_cost = []\n",
    "learning_rate = 0.001\n"
   ]
  },
  {
   "cell_type": "code",
   "execution_count": 96,
   "metadata": {},
   "outputs": [
    {
     "name": "stdout",
     "output_type": "stream",
     "text": [
      "0 0.49713428637249424 0.42504242774327944\n",
      "1000 0.1954438338294256 0.16015214029688357\n",
      "2000 0.19280434957867254 0.14939240572292578\n",
      "3000 0.19260868044820117 0.14712675248177878\n",
      "4000 0.19259056431940388 0.1464874186847854\n",
      "5000 0.1925887089078361 0.146286855902752\n",
      "6000 0.19258851149008943 0.14622179650028228\n",
      "7000 0.1925884901943137 0.14620046322821947\n",
      "8000 0.19258848788598848 0.1461934430816987\n",
      "9000 0.19258848763536207 0.14619113024176078\n"
     ]
    }
   ],
   "source": [
    "for i in range(10000):\n",
    "    pY1_train = forward(Xtrain, W, b) #probability of y=1 in train set\n",
    "    pY1_test = forward(Xtest, W, b)   #probability of y=1 in test set\n",
    "\n",
    "    ctrain = cross_entropy(Ytrain,pY1_train)\n",
    "    ctest = cross_entropy(Ytest,pY1_test)\n",
    "\n",
    "    train_cost.append(ctrain)\n",
    "    test_cost.append(ctest)\n",
    "\n",
    "    W -= learning_rate*Xtrain.T.dot(pY1_train - Ytrain)\n",
    "    b -= learning_rate*Xtrain.T.dot(pY1_train - Ytrain).sum()\n",
    "\n",
    "    if i % 1000 == 0:\n",
    "        print(i,ctrain,ctest)"
   ]
  },
  {
   "cell_type": "code",
   "execution_count": 97,
   "metadata": {},
   "outputs": [
    {
     "name": "stdout",
     "output_type": "stream",
     "text": [
      "Final train classification rate: 0.9688473520249221\n",
      "Final test classification rate: 0.961038961038961\n"
     ]
    }
   ],
   "source": [
    "acc_train = classification_rate(Ytrain,np.round(pY1_train))\n",
    "print(\"Final train classification rate:\",acc_train)\n",
    "\n",
    "acc_test = classification_rate(Ytest,np.round(pY1_test))\n",
    "print(\"Final test classification rate:\",acc_test)"
   ]
  },
  {
   "cell_type": "code",
   "execution_count": 98,
   "metadata": {},
   "outputs": [
    {
     "data": {
      "image/png": "[encoded data removed]",
      "text/plain": [
       "<Figure size 432x288 with 1 Axes>"
      ]
     },
     "metadata": {
      "needs_background": "light"
     },
     "output_type": "display_data"
    }
   ],
   "source": [
    "plt.plot(train_cost,label='train_cost')\n",
    "plt.plot(test_cost,label='test_cost')\n",
    "plt.legend();\n"
   ]
  },
  {
   "cell_type": "code",
   "execution_count": null,
   "metadata": {},
   "outputs": [],
   "source": []
  }
 ],
 "metadata": {
  "kernelspec": {
   "display_name": "base",
   "language": "python",
   "name": "python3"
  },
  "language_info": {
   "codemirror_mode": {
    "name": "ipython",
    "version": 3
   },
   "file_extension": ".py",
   "mimetype": "text/x-python",
   "name": "python",
   "nbconvert_exporter": "python",
   "pygments_lexer": "ipython3",
   "version": "3.7.7"
  },
  "orig_nbformat": 4
 },
 "nbformat": 4,
 "nbformat_minor": 2
}
